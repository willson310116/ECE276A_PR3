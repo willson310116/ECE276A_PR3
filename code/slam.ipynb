{
 "cells": [
  {
   "cell_type": "code",
   "execution_count": 2,
   "metadata": {},
   "outputs": [],
   "source": [
    "import numpy as np\n",
    "from utils import *"
   ]
  },
  {
   "cell_type": "code",
   "execution_count": null,
   "metadata": {},
   "outputs": [],
   "source": [
    "# Load the measurements\n",
    "filename = \"../data/10.npz\"\n",
    "t,features,linear_velocity,angular_velocity,K,b,imu_T_cam = load_data(filename)"
   ]
  }
 ],
 "metadata": {
  "kernelspec": {
   "display_name": "venv",
   "language": "python",
   "name": "python3"
  },
  "language_info": {
   "codemirror_mode": {
    "name": "ipython",
    "version": 3
   },
   "file_extension": ".py",
   "mimetype": "text/x-python",
   "name": "python",
   "nbconvert_exporter": "python",
   "pygments_lexer": "ipython3",
   "version": "3.9.13"
  },
  "orig_nbformat": 4,
  "vscode": {
   "interpreter": {
    "hash": "48667357232c22bfb60af929cfb983c05cc550d0cb2267bcd4ac77309f490a71"
   }
  }
 },
 "nbformat": 4,
 "nbformat_minor": 2
}
